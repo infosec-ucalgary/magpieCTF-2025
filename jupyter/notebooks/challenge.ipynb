{
 "cells": [
  {
   "cell_type": "markdown",
   "metadata": {},
   "source": [
    "# FILL THIS OUT LATER???\n"
   ]
  }
 ],
 "metadata": {},
 "nbformat": 4,
 "nbformat_minor": 2
}
